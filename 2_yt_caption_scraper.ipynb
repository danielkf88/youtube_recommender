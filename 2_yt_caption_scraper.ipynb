{
 "cells": [
  {
   "cell_type": "code",
   "execution_count": null,
   "metadata": {},
   "outputs": [],
   "source": [
    "from youtube_transcript_api import YouTubeTranscriptApi\n",
    "\n",
    "import pandas as pd\n",
    "import numpy as np"
   ]
  },
  {
   "cell_type": "code",
   "execution_count": null,
   "metadata": {},
   "outputs": [],
   "source": [
    "# read csv file prepare in 1_yt_caption.ipynb\n",
    "df = pd.read_csv('data/vid_link_final.csv')"
   ]
  },
  {
   "cell_type": "code",
   "execution_count": null,
   "metadata": {},
   "outputs": [],
   "source": [
    "len(df)"
   ]
  },
  {
   "cell_type": "code",
   "execution_count": null,
   "metadata": {},
   "outputs": [],
   "source": [
    "# To extract the unique ID of regular video from link and save in the new column 'id'\n",
    "df['id'] = df['link'].apply(lambda x: x.split(\"=\")[-1])"
   ]
  },
  {
   "cell_type": "code",
   "execution_count": null,
   "metadata": {},
   "outputs": [],
   "source": [
    "# To extract the unique ID of shorts from link and save in 'id' column\n",
    "df['id'] = df['id'].str.split('/').str[-1]"
   ]
  },
  {
   "cell_type": "code",
   "execution_count": null,
   "metadata": {},
   "outputs": [],
   "source": [
    "df['id']"
   ]
  },
  {
   "cell_type": "code",
   "execution_count": null,
   "metadata": {},
   "outputs": [],
   "source": [
    "# create empty list of attribute to store output of extraction\n",
    "unique_id = []\n",
    "json_caption = []\n",
    "caption = []"
   ]
  },
  {
   "cell_type": "code",
   "execution_count": null,
   "metadata": {},
   "outputs": [],
   "source": [
    "print(len(unique_id))\n",
    "print(len(json_caption))\n",
    "print(len(caption))"
   ]
  },
  {
   "cell_type": "code",
   "execution_count": null,
   "metadata": {},
   "outputs": [],
   "source": [
    "# loop through the unique id to get caption and save \n",
    "for id in df['id'][:]:\n",
    "    # try block to test if subtitle is disabled\n",
    "    try:\n",
    "        YouTubeTranscriptApi.get_transcript(id)\n",
    "    except:\n",
    "        unique_id.append(id)\n",
    "        json_caption.append([])\n",
    "        caption.append('subtitle disabled')\n",
    "        print(f'caption disabled for {id}:{len(unique_id)}')\n",
    "    else:\n",
    "        sub = YouTubeTranscriptApi.get_transcript(id)  \n",
    "        subtitle = \" \".join([x['text'] for x in sub])\n",
    "        unique_id.append(id)\n",
    "        json_caption.append(sub)\n",
    "        caption.append(subtitle)"
   ]
  },
  {
   "cell_type": "code",
   "execution_count": null,
   "metadata": {},
   "outputs": [],
   "source": [
    "# create dataframe from list \n",
    "df2 = pd.DataFrame({'id': unique_id, 'json_caption': json_caption, 'caption': caption})"
   ]
  },
  {
   "cell_type": "code",
   "execution_count": null,
   "metadata": {},
   "outputs": [],
   "source": [
    "# check for duplicate\n",
    "df2[df2.duplicated(subset=['id'])]"
   ]
  },
  {
   "cell_type": "code",
   "execution_count": null,
   "metadata": {},
   "outputs": [],
   "source": [
    "# drop duplicates\n",
    "df2 = df2.drop_duplicates(subset=['id'])"
   ]
  },
  {
   "cell_type": "code",
   "execution_count": null,
   "metadata": {},
   "outputs": [],
   "source": [
    "df2.tail()"
   ]
  },
  {
   "cell_type": "code",
   "execution_count": null,
   "metadata": {},
   "outputs": [],
   "source": [
    "# export caption as a copy\n",
    "df2.to_csv('data/vid_caption_final.csv', index=False)"
   ]
  }
 ],
 "metadata": {
  "kernelspec": {
   "display_name": "Python 3",
   "language": "python",
   "name": "python3"
  },
  "language_info": {
   "codemirror_mode": {
    "name": "ipython",
    "version": 3
   },
   "file_extension": ".py",
   "mimetype": "text/x-python",
   "name": "python",
   "nbconvert_exporter": "python",
   "pygments_lexer": "ipython3",
   "version": "3.9.5"
  },
  "orig_nbformat": 4
 },
 "nbformat": 4,
 "nbformat_minor": 2
}
